{
 "cells": [
  {
   "cell_type": "code",
   "execution_count": null,
   "metadata": {
    "collapsed": true
   },
   "outputs": [],
   "source": []
  },
  {
   "cell_type": "code",
   "execution_count": 1,
   "metadata": {},
   "outputs": [
    {
     "name": "stderr",
     "output_type": "stream",
     "text": [
      "/home/egidio/anaconda3/lib/python3.6/site-packages/statsmodels/compat/pandas.py:56: FutureWarning: The pandas.core.datetools module is deprecated and will be removed in a future version. Please use the pandas.tseries module instead.\n",
      "  from pandas.core import datetools\n"
     ]
    }
   ],
   "source": [
    "import pandas as pd\n",
    "import numpy as np\n",
    "import matplotlib.pyplot as plt\n",
    "import scipy \n",
    "from scipy import stats\n",
    "import statsmodels.api as sm\n",
    "from statsmodels.formula.api import ols\n",
    "import datetime as dt\n",
    "import datetime\n",
    "from datetime import timedelta  \n",
    "import timeboard as tb # turnos \n",
    "\n",
    "# para tratar de poner espanol\n",
    "from datetime import date, datetime, time\n",
    "from babel.dates import format_date, format_datetime, format_time, format_timedelta, Locale\n",
    "import locale                                    # para tratar de poner espanol\n",
    "#locale = Locale('es', 'CL')\n",
    "locale.setlocale(locale.LC_ALL,'es_ES.UTF-8')  \n",
    "\n",
    "import os\n",
    "import runpy\n",
    "from pyexcel_ods import get_data\n",
    "import math\n",
    "\n",
    "from IPython.core.interactiveshell import InteractiveShell\n",
    "InteractiveShell.ast_node_interactivity = \"all\"\n",
    "%matplotlib inline"
   ]
  },
  {
   "cell_type": "code",
   "execution_count": null,
   "metadata": {
    "collapsed": true
   },
   "outputs": [],
   "source": []
  },
  {
   "cell_type": "code",
   "execution_count": null,
   "metadata": {
    "collapsed": true
   },
   "outputs": [],
   "source": []
  },
  {
   "cell_type": "code",
   "execution_count": 2,
   "metadata": {},
   "outputs": [
    {
     "data": {
      "text/plain": [
       "['/home/egidio/Dropbox/Compucosas/programas py/lector_ODF.py',\n",
       " '/home/egidio/Dropbox/Compucosas/programas py/como importar',\n",
       " '/home/egidio/Dropbox/Compucosas/programas py/descripcion_univariada.py',\n",
       " '/home/egidio/Dropbox/Compucosas/programas py/características_operativas_de_test.py',\n",
       " '/home/egidio/Dropbox/Compucosas/programas py/percentiles.py',\n",
       " '/home/egidio/Dropbox/Compucosas/programas py/tabala_frecuencias.py',\n",
       " '/home/egidio/Dropbox/Compucosas/programas py/__pycache__/percentiles.cpython-36.pyc',\n",
       " '/home/egidio/Dropbox/Compucosas/programas py/__pycache__/lector_ODF.cpython-36.pyc',\n",
       " '/home/egidio/Dropbox/Compucosas/programas py/__pycache__/descripcion_univariada.cpython-36.pyc',\n",
       " '/home/egidio/Dropbox/Compucosas/programas py/__pycache__/características_operativas_de_test.cpython-36.pyc',\n",
       " '/home/egidio/Dropbox/Compucosas/programas py/__pycache__/tabala_frecuencias.cpython-36.pyc',\n",
       " '/home/egidio/Dropbox/Compucosas/programas py/__pycache__/funciones_locales.cpython-36.pyc']"
      ]
     },
     "execution_count": 2,
     "metadata": {},
     "output_type": "execute_result"
    }
   ],
   "source": [
    "#listo los archivos\n",
    "scripts = []\n",
    "for dirname, dirnames, filenames in os.walk('/home/egidio/Dropbox/Compucosas/programas py'):\n",
    "    for filename in filenames:\n",
    "        scripts.append(os.path.join(dirname, filename))\n",
    "\n",
    "scripts\n",
    "\n",
    "# los cargo\n",
    "for script in scripts:\n",
    "    if script[-3:] == '.py':\n",
    "        exec(open(str(script)).read())\n"
   ]
  },
  {
   "cell_type": "markdown",
   "metadata": {},
   "source": [
    "# Listar los archivos"
   ]
  },
  {
   "cell_type": "code",
   "execution_count": 3,
   "metadata": {
    "scrolled": true
   },
   "outputs": [
    {
     "data": {
      "text/plain": [
       "['./BDs/H Limache/Region.CLXX.Reports.ZEN.Urgencia.LibroAtencionUrgenciaXL (9).xlsx',\n",
       " './BDs/H Limache/Region.CLXX.Reports.ZEN.Adm.RutificadoMotivoConsulta (7).xlsx',\n",
       " './BDs/H Limache/Region.CLXX.Reports.ZEN.Urgencia.TiemposDeEsperaXL (10).xlsx',\n",
       " './BDs/H petorca/Region.CLXX.Reports.ZEN.Urgencia.TiemposDeEsperaXL (12).xlsx',\n",
       " './BDs/H petorca/Region.CLXX.Reports.ZEN.Adm.RutificadoMotivoConsulta (9).xlsx',\n",
       " './BDs/H petorca/Region.CLXX.Reports.ZEN.Urgencia.LibroAtencionUrgenciaXL (11).xlsx',\n",
       " './BDs/H Cabildo/Region.CLXX.Reports.ZEN.Urgencia.LibroAtencionUrgenciaXL (5).xlsx',\n",
       " './BDs/H Cabildo/Region.CLXX.Reports.ZEN.Urgencia.TiemposDeEsperaXL (6).xlsx',\n",
       " './BDs/H Cabildo/Region.CLXX.Reports.ZEN.Adm.RutificadoMotivoConsulta (3).xlsx',\n",
       " './BDs/Hosp. Quillota G-O ok/Region.CLXX.Reports.ZEN.Urgencia.LibroAtencionUrgenciaXL (21).xlsx',\n",
       " './BDs/Hosp. Quillota G-O ok/Region.CLXX.Reports.ZEN.Urgencia.TiemposDeEsperaXL (22).xlsx',\n",
       " './BDs/Hosp. Quillota G-O ok/Region.CLXX.Reports.ZEN.Adm.RutificadoMotivoConsulta (19).xlsx',\n",
       " './BDs/HGF UEA G-O/Region.CLXX.Reports.ZEN.Urgencia.TiemposDeEsperaXL (15).xlsx',\n",
       " './BDs/HGF UEA G-O/Region.CLXX.Reports.ZEN.Adm.RutificadoMotivoConsulta (12).xlsx',\n",
       " './BDs/HGF UEA G-O/Region.CLXX.Reports.ZEN.Urgencia.LibroAtencionUrgenciaXL (14).xlsx',\n",
       " './BDs/BD compiladas/sidra.pkl',\n",
       " './BDs/Hosp. Quilpue Infantil  ok/Region.CLXX.Reports.ZEN.Urgencia.TiemposDeEsperaXL (19).xlsx',\n",
       " './BDs/Hosp. Quilpue Infantil  ok/Region.CLXX.Reports.ZEN.Urgencia.LibroAtencionUrgenciaXL (17).xlsx',\n",
       " './BDs/Hosp. Quilpue Infantil  ok/Region.CLXX.Reports.ZEN.Adm.RutificadoMotivoConsulta (16).xlsx',\n",
       " './BDs/Hosp. Quillota Infantil ok/Region.CLXX.Reports.ZEN.Urgencia.TiemposDeEsperaXL (21).xlsx',\n",
       " './BDs/Hosp. Quillota Infantil ok/Region.CLXX.Reports.ZEN.Adm.RutificadoMotivoConsulta (18).xlsx',\n",
       " './BDs/Hosp. Quillota Infantil ok/Region.CLXX.Reports.ZEN.Urgencia.LibroAtencionUrgenciaXL (19).xlsx',\n",
       " './BDs/H Penablanca/Region.CLXX.Reports.ZEN.Adm.RutificadoMotivoConsulta (8).xlsx',\n",
       " './BDs/H Penablanca/Region.CLXX.Reports.ZEN.Urgencia.LibroAtencionUrgenciaXL (10).xlsx',\n",
       " './BDs/H Penablanca/Region.CLXX.Reports.ZEN.Urgencia.TiemposDeEsperaXL (11).xlsx',\n",
       " './BDs/H Qiuntero/Region.CLXX.Reports.ZEN.Urgencia.TiemposDeEsperaXL (14).xlsx',\n",
       " './BDs/H Qiuntero/Region.CLXX.Reports.ZEN.Urgencia.LibroAtencionUrgenciaXL (12).xlsx',\n",
       " './BDs/H Qiuntero/Region.CLXX.Reports.ZEN.Adm.RutificadoMotivoConsulta (10).xlsx',\n",
       " './BDs/HGF/Region.CLXX.Reports.ZEN.Adm.UrgenciaTiemposEspera.xlsx',\n",
       " './BDs/HGF/Region.CLXX.Reports.ZEN.Urgencia.LibroAtencionUrgenciaGO (2).xlsx',\n",
       " './BDs/HGF/Region.CLXX.Reports.ZEN.Urgencia.TiemposDeEsperaXL (4).xlsx',\n",
       " './BDs/HGF/Region.CLXX.Reports.ZEN.Urgencia.LibroAtencionUrgenciaXL (1).xlsx',\n",
       " './BDs/HGF/Region.CLXX.Reports.ZEN.Adm.RutificadoMotivoConsulta (1).xlsx',\n",
       " './BDs/H Quillota/Region.CLXX.Reports.ZEN.Urgencia.TiemposDeEsperaXL (3).xlsx',\n",
       " './BDs/H Quillota/Region.CLXX.Reports.ZEN.Adm.RutificadoMotivoConsulta.xlsx',\n",
       " './BDs/H Quillota/Region.CLXX.Reports.ZEN.Urgencia.LibroAtencionUrgenciaXL (3).xlsx',\n",
       " './BDs/H Calera/Region.CLXX.Reports.ZEN.Adm.RutificadoMotivoConsulta (4).xlsx',\n",
       " './BDs/H Calera/Region.CLXX.Reports.ZEN.Urgencia.TiemposDeEsperaXL (7).xlsx',\n",
       " './BDs/H Calera/Region.CLXX.Reports.ZEN.Urgencia.LibroAtencionUrgenciaXL (6).xlsx',\n",
       " './BDs/H La ligua/Region.CLXX.Reports.ZEN.Urgencia.TiemposDeEsperaXL (8).xlsx',\n",
       " './BDs/H La ligua/Region.CLXX.Reports.ZEN.Urgencia.LibroAtencionUrgenciaXL (7).xlsx',\n",
       " './BDs/H La ligua/Region.CLXX.Reports.ZEN.Adm.RutificadoMotivoConsulta (5).xlsx',\n",
       " './BDs/HGF UEA Infantil/Region.CLXX.Reports.ZEN.Urgencia.LibroAtencionUrgenciaXL (22).xlsx',\n",
       " './BDs/HGF UEA Infantil/Region.CLXX.Reports.ZEN.Adm.RutificadoMotivoConsulta (13).xlsx',\n",
       " './BDs/HGF UEA Infantil/Region.CLXX.Reports.ZEN.Urgencia.TiemposDeEsperaXL (16).xlsx',\n",
       " './BDs/H quilpue UEA/Region.CLXX.Reports.ZEN.Urgencia.TiemposDeEsperaXL (9).xlsx',\n",
       " './BDs/H quilpue UEA/Region.CLXX.Reports.ZEN.Urgencia.LibroAtencionUrgenciaXL (8).xlsx',\n",
       " './BDs/H quilpue UEA/Region.CLXX.Reports.ZEN.Adm.RutificadoMotivoConsulta (6).xlsx',\n",
       " './BDs/Hosp. Quilpue G-O ok/Region.CLXX.Reports.ZEN.Urgencia.LibroAtencionUrgenciaXL (18).xlsx',\n",
       " './BDs/Hosp. Quilpue G-O ok/Region.CLXX.Reports.ZEN.Adm.RutificadoMotivoConsulta (17).xlsx',\n",
       " './BDs/Hosp. Quilpue G-O ok/Region.CLXX.Reports.ZEN.Urgencia.TiemposDeEsperaXL (20).xlsx']"
      ]
     },
     "execution_count": 3,
     "metadata": {},
     "output_type": "execute_result"
    }
   ],
   "source": [
    "lista_archivos = []\n",
    "for dirname, dirnames, filenames in os.walk('./BDs/'):\n",
    "    for filename in filenames:\n",
    "        lista_archivos.append(os.path.join(dirname, filename))\n",
    "archivos = lista_archivos\n",
    "archivos"
   ]
  },
  {
   "cell_type": "code",
   "execution_count": null,
   "metadata": {
    "collapsed": true
   },
   "outputs": [],
   "source": []
  },
  {
   "cell_type": "markdown",
   "metadata": {},
   "source": [
    "## Aquellos archivos que son 'LibroAtencionUrgenciaXL'"
   ]
  },
  {
   "cell_type": "code",
   "execution_count": 4,
   "metadata": {
    "collapsed": true,
    "scrolled": true
   },
   "outputs": [],
   "source": [
    "# libro_atencion_urgencia = [f for f in archivos if 'LibroAtencionUrgenciaXL' in f]\n",
    "# libro_atencion_urgencia"
   ]
  },
  {
   "cell_type": "code",
   "execution_count": 5,
   "metadata": {
    "collapsed": true,
    "scrolled": true
   },
   "outputs": [],
   "source": [
    "# LAU = pd.DataFrame()\n",
    "# for f in libro_atencion_urgencia:\n",
    "#     data = pd.read_excel(f)\n",
    "#     LAU = LAU.append(data)\n",
    "# LAU.info()"
   ]
  },
  {
   "cell_type": "markdown",
   "metadata": {},
   "source": [
    "## Aquellos archivos que son 'Tiempo de espera'"
   ]
  },
  {
   "cell_type": "code",
   "execution_count": 6,
   "metadata": {
    "scrolled": true
   },
   "outputs": [
    {
     "data": {
      "text/plain": [
       "['./BDs/H Limache/Region.CLXX.Reports.ZEN.Urgencia.TiemposDeEsperaXL (10).xlsx',\n",
       " './BDs/H petorca/Region.CLXX.Reports.ZEN.Urgencia.TiemposDeEsperaXL (12).xlsx',\n",
       " './BDs/H Cabildo/Region.CLXX.Reports.ZEN.Urgencia.TiemposDeEsperaXL (6).xlsx',\n",
       " './BDs/Hosp. Quillota G-O ok/Region.CLXX.Reports.ZEN.Urgencia.TiemposDeEsperaXL (22).xlsx',\n",
       " './BDs/HGF UEA G-O/Region.CLXX.Reports.ZEN.Urgencia.TiemposDeEsperaXL (15).xlsx',\n",
       " './BDs/Hosp. Quilpue Infantil  ok/Region.CLXX.Reports.ZEN.Urgencia.TiemposDeEsperaXL (19).xlsx',\n",
       " './BDs/Hosp. Quillota Infantil ok/Region.CLXX.Reports.ZEN.Urgencia.TiemposDeEsperaXL (21).xlsx',\n",
       " './BDs/H Penablanca/Region.CLXX.Reports.ZEN.Urgencia.TiemposDeEsperaXL (11).xlsx',\n",
       " './BDs/H Qiuntero/Region.CLXX.Reports.ZEN.Urgencia.TiemposDeEsperaXL (14).xlsx',\n",
       " './BDs/HGF/Region.CLXX.Reports.ZEN.Urgencia.TiemposDeEsperaXL (4).xlsx',\n",
       " './BDs/H Quillota/Region.CLXX.Reports.ZEN.Urgencia.TiemposDeEsperaXL (3).xlsx',\n",
       " './BDs/H Calera/Region.CLXX.Reports.ZEN.Urgencia.TiemposDeEsperaXL (7).xlsx',\n",
       " './BDs/H La ligua/Region.CLXX.Reports.ZEN.Urgencia.TiemposDeEsperaXL (8).xlsx',\n",
       " './BDs/HGF UEA Infantil/Region.CLXX.Reports.ZEN.Urgencia.TiemposDeEsperaXL (16).xlsx',\n",
       " './BDs/H quilpue UEA/Region.CLXX.Reports.ZEN.Urgencia.TiemposDeEsperaXL (9).xlsx',\n",
       " './BDs/Hosp. Quilpue G-O ok/Region.CLXX.Reports.ZEN.Urgencia.TiemposDeEsperaXL (20).xlsx']"
      ]
     },
     "execution_count": 6,
     "metadata": {},
     "output_type": "execute_result"
    }
   ],
   "source": [
    "archivos_tiempo = [f for f in archivos if 'TiemposDeEspera' in f]\n",
    "archivos_tiempo"
   ]
  },
  {
   "cell_type": "code",
   "execution_count": 7,
   "metadata": {
    "scrolled": true
   },
   "outputs": [
    {
     "name": "stdout",
     "output_type": "stream",
     "text": [
      "<class 'pandas.core.frame.DataFrame'>\n",
      "Int64Index: 12602 entries, 0 to 292\n",
      "Data columns (total 28 columns):\n",
      "Hospital                         12602 non-null object\n",
      "Local                            12602 non-null object\n",
      "NumRegistro                      12602 non-null object\n",
      "RUN                              12444 non-null object\n",
      "Nombre                           12602 non-null object\n",
      "Apellido Paterno                 12602 non-null object\n",
      "Apellido Materno                 12490 non-null object\n",
      "Fecha Nacimiento                 12602 non-null object\n",
      "Sexo                             12602 non-null object\n",
      "Previsión                        12414 non-null object\n",
      "Plan                             12414 non-null object\n",
      "Condición de Urgencia            11590 non-null object\n",
      "Fecha Admisión                   12602 non-null object\n",
      "Hora Admisión                    12602 non-null object\n",
      "Fecha Triage                     12546 non-null object\n",
      "Hora Triage                      12546 non-null object\n",
      "Fecha Atención                   12534 non-null object\n",
      "Hora Atención                    12534 non-null object\n",
      "Fecha Cierre Médico              12504 non-null object\n",
      "Hora Cierre Médico               12504 non-null object\n",
      "Fecha Cierre Adm                 12454 non-null object\n",
      "Hora Cierre Adm                  12454 non-null object\n",
      "Tiempo Espera Categorizacion     12389 non-null float64\n",
      "Tiempo Espera Atención Médica    12109 non-null float64\n",
      "Tiempo Atención Médica           12312 non-null float64\n",
      "Tiempo Cierre Médico             12501 non-null float64\n",
      "Tiempo Espera Cierre Adm.        12402 non-null float64\n",
      "Tiempo Total                     12454 non-null float64\n",
      "dtypes: float64(6), object(22)\n",
      "memory usage: 2.8+ MB\n"
     ]
    }
   ],
   "source": [
    "tiempos = pd.DataFrame()\n",
    "for f in archivos_tiempo:\n",
    "    data = pd.read_excel(f)\n",
    "    tiempos = tiempos.append(data)\n",
    "tiempos.info()"
   ]
  },
  {
   "cell_type": "markdown",
   "metadata": {},
   "source": [
    "## Aquellos archivos que son Motivos de consulta"
   ]
  },
  {
   "cell_type": "code",
   "execution_count": 8,
   "metadata": {
    "scrolled": true
   },
   "outputs": [
    {
     "data": {
      "text/plain": [
       "['./BDs/H Limache/Region.CLXX.Reports.ZEN.Adm.RutificadoMotivoConsulta (7).xlsx',\n",
       " './BDs/H petorca/Region.CLXX.Reports.ZEN.Adm.RutificadoMotivoConsulta (9).xlsx',\n",
       " './BDs/H Cabildo/Region.CLXX.Reports.ZEN.Adm.RutificadoMotivoConsulta (3).xlsx',\n",
       " './BDs/Hosp. Quillota G-O ok/Region.CLXX.Reports.ZEN.Adm.RutificadoMotivoConsulta (19).xlsx',\n",
       " './BDs/HGF UEA G-O/Region.CLXX.Reports.ZEN.Adm.RutificadoMotivoConsulta (12).xlsx',\n",
       " './BDs/Hosp. Quilpue Infantil  ok/Region.CLXX.Reports.ZEN.Adm.RutificadoMotivoConsulta (16).xlsx',\n",
       " './BDs/Hosp. Quillota Infantil ok/Region.CLXX.Reports.ZEN.Adm.RutificadoMotivoConsulta (18).xlsx',\n",
       " './BDs/H Penablanca/Region.CLXX.Reports.ZEN.Adm.RutificadoMotivoConsulta (8).xlsx',\n",
       " './BDs/H Qiuntero/Region.CLXX.Reports.ZEN.Adm.RutificadoMotivoConsulta (10).xlsx',\n",
       " './BDs/HGF/Region.CLXX.Reports.ZEN.Adm.RutificadoMotivoConsulta (1).xlsx',\n",
       " './BDs/H Quillota/Region.CLXX.Reports.ZEN.Adm.RutificadoMotivoConsulta.xlsx',\n",
       " './BDs/H Calera/Region.CLXX.Reports.ZEN.Adm.RutificadoMotivoConsulta (4).xlsx',\n",
       " './BDs/H La ligua/Region.CLXX.Reports.ZEN.Adm.RutificadoMotivoConsulta (5).xlsx',\n",
       " './BDs/HGF UEA Infantil/Region.CLXX.Reports.ZEN.Adm.RutificadoMotivoConsulta (13).xlsx',\n",
       " './BDs/H quilpue UEA/Region.CLXX.Reports.ZEN.Adm.RutificadoMotivoConsulta (6).xlsx',\n",
       " './BDs/Hosp. Quilpue G-O ok/Region.CLXX.Reports.ZEN.Adm.RutificadoMotivoConsulta (17).xlsx']"
      ]
     },
     "execution_count": 8,
     "metadata": {},
     "output_type": "execute_result"
    }
   ],
   "source": [
    "archivos_MC = [f for f in archivos if 'MotivoConsulta' in f]\n",
    "archivos_MC"
   ]
  },
  {
   "cell_type": "code",
   "execution_count": 9,
   "metadata": {
    "scrolled": true
   },
   "outputs": [
    {
     "name": "stdout",
     "output_type": "stream",
     "text": [
      "<class 'pandas.core.frame.DataFrame'>\n",
      "Int64Index: 14346 entries, 0 to 331\n",
      "Data columns (total 30 columns):\n",
      "Establecimiento               14346 non-null object\n",
      "RutPaciente                   14159 non-null object\n",
      "Edad                          14346 non-null int64\n",
      "Telefono                      13374 non-null float64\n",
      "NombrePaciente                14346 non-null object\n",
      "Sexo                          14346 non-null object\n",
      "Direccion                     14346 non-null object\n",
      "Comuna                        14301 non-null object\n",
      "Provincia                     13279 non-null object\n",
      "NumeroEpisodio                14346 non-null object\n",
      "HoraIngreso                   14346 non-null object\n",
      "FechaIngreso                  14346 non-null object\n",
      "MotivoConsulta                14340 non-null object\n",
      "Prevision                     14176 non-null object\n",
      "ClasificacionConsulta         14346 non-null object\n",
      "TipoAccidente                 13106 non-null object\n",
      "NumeroAtencionesAnteriores    14346 non-null int64\n",
      "DiagnosticoPrincipal          12820 non-null object\n",
      "OtrosDiagnosticos             1040 non-null object\n",
      "LlegadaEn                     14346 non-null object\n",
      "ProcedenciaPaciente           14346 non-null object\n",
      "AtInterrumpidaPor             1772 non-null object\n",
      "HoraAlta                      14253 non-null object\n",
      "FechaAlta                     14253 non-null object\n",
      "AtendidoPor                   14106 non-null object\n",
      "DestinoAlta                   12765 non-null object\n",
      "CondicionAlCierre             14259 non-null object\n",
      "Pronostico                    12756 non-null object\n",
      "Categorizacion                14093 non-null object\n",
      "AtencionEnfermeria            1350 non-null object\n",
      "dtypes: float64(1), int64(2), object(27)\n",
      "memory usage: 3.4+ MB\n"
     ]
    }
   ],
   "source": [
    "MC = pd.DataFrame()\n",
    "for f in archivos_MC:\n",
    "    data = pd.read_excel(f)\n",
    "    MC = MC.append(data)\n",
    "MC.info()"
   ]
  },
  {
   "cell_type": "markdown",
   "metadata": {},
   "source": [
    "# Juntar BD"
   ]
  },
  {
   "cell_type": "code",
   "execution_count": 10,
   "metadata": {
    "collapsed": true
   },
   "outputs": [],
   "source": [
    "tiempos.rename(columns={'NumRegistro': 'NumeroEpisodio'}, inplace=True)"
   ]
  },
  {
   "cell_type": "code",
   "execution_count": 11,
   "metadata": {
    "collapsed": true
   },
   "outputs": [],
   "source": [
    "tiempos = tiempos.set_index('NumeroEpisodio')\n",
    "MC = MC.set_index('NumeroEpisodio')"
   ]
  },
  {
   "cell_type": "code",
   "execution_count": 12,
   "metadata": {
    "collapsed": true
   },
   "outputs": [],
   "source": [
    "sidra = pd.merge(MC, tiempos, on='NumeroEpisodio', how='outer')"
   ]
  },
  {
   "cell_type": "markdown",
   "metadata": {},
   "source": [
    "# Arreglar algunas cosillas sidra"
   ]
  },
  {
   "cell_type": "code",
   "execution_count": 13,
   "metadata": {
    "scrolled": false
   },
   "outputs": [
    {
     "data": {
      "text/plain": [
       "Index(['Establecimiento', 'RutPaciente', 'Edad', 'Telefono', 'NombrePaciente',\n",
       "       'Sexo_x', 'Direccion', 'Comuna', 'Provincia', 'HoraIngreso',\n",
       "       'FechaIngreso', 'MotivoConsulta', 'Prevision', 'ClasificacionConsulta',\n",
       "       'TipoAccidente', 'NumeroAtencionesAnteriores', 'DiagnosticoPrincipal',\n",
       "       'OtrosDiagnosticos', 'LlegadaEn', 'ProcedenciaPaciente',\n",
       "       'AtInterrumpidaPor', 'HoraAlta', 'FechaAlta', 'AtendidoPor',\n",
       "       'DestinoAlta', 'CondicionAlCierre', 'Pronostico', 'Categorizacion',\n",
       "       'AtencionEnfermeria', 'Hospital', 'Local', 'RUN', 'Nombre',\n",
       "       'Apellido Paterno', 'Apellido Materno', 'Fecha Nacimiento', 'Sexo_y',\n",
       "       'Previsión', 'Plan', 'Condición de Urgencia', 'Fecha Admisión',\n",
       "       'Hora Admisión', 'Fecha Triage', 'Hora Triage', 'Fecha Atención',\n",
       "       'Hora Atención', 'Fecha Cierre Médico', 'Hora Cierre Médico',\n",
       "       'Fecha Cierre Adm', 'Hora Cierre Adm', 'Tiempo Espera Categorizacion',\n",
       "       'Tiempo Espera Atención Médica', 'Tiempo Atención Médica',\n",
       "       'Tiempo Cierre Médico', 'Tiempo Espera Cierre Adm.', 'Tiempo Total'],\n",
       "      dtype='object')"
      ]
     },
     "execution_count": 13,
     "metadata": {},
     "output_type": "execute_result"
    }
   ],
   "source": [
    "sidra.columns"
   ]
  },
  {
   "cell_type": "code",
   "execution_count": 14,
   "metadata": {
    "scrolled": true
   },
   "outputs": [
    {
     "data": {
      "text/plain": [
       "Index(['Hospital', 'Local', 'RUN', 'Nombre', 'Apellido Paterno',\n",
       "       'Apellido Materno', 'Fecha Nacimiento', 'Sexo', 'Previsión', 'Plan',\n",
       "       'Condición de Urgencia', 'Fecha Admisión', 'Hora Admisión',\n",
       "       'Fecha Triage', 'Hora Triage', 'Fecha Atención', 'Hora Atención',\n",
       "       'Fecha Cierre Médico', 'Hora Cierre Médico', 'Fecha Cierre Adm',\n",
       "       'Hora Cierre Adm', 'Tiempo Espera Categorizacion',\n",
       "       'Tiempo Espera Atención Médica', 'Tiempo Atención Médica',\n",
       "       'Tiempo Cierre Médico', 'Tiempo Espera Cierre Adm.', 'Tiempo Total'],\n",
       "      dtype='object')"
      ]
     },
     "execution_count": 14,
     "metadata": {},
     "output_type": "execute_result"
    }
   ],
   "source": [
    "tiempos.columns"
   ]
  },
  {
   "cell_type": "code",
   "execution_count": 15,
   "metadata": {
    "collapsed": true,
    "scrolled": true
   },
   "outputs": [],
   "source": [
    "sidra['TS_ingreso'] = pd.Series(\n",
    "    pd.to_datetime(sidra.HoraIngreso + ' ' + sidra.FechaIngreso,\n",
    "                   format ='%H:%M %d/%m/%Y'))\n",
    "\n",
    "sidra['TS_triage'] = pd.Series(\n",
    "    pd.to_datetime(sidra['Hora Triage'] + ' ' + sidra['Fecha Triage'],\n",
    "                   format ='%H:%M %d/%m/%Y'))\n",
    "\n",
    "sidra['TS_atencion'] = pd.Series(\n",
    "    pd.to_datetime(sidra['Hora Atención'] + ' ' + sidra['Fecha Atención'],\n",
    "                   format ='%H:%M %d/%m/%Y'))\n",
    "\n",
    "sidra['TS_cierremedico'] = pd.Series(\n",
    "    pd.to_datetime(sidra['HoraAlta'] + ' ' + sidra['FechaAlta'],\n",
    "                   format ='%H:%M %d/%m/%Y'))\n",
    "\n",
    "sidra['TS_egreso'] = pd.Series(\n",
    "    pd.to_datetime(sidra['Hora Cierre Adm'] + ' ' + sidra['Fecha Cierre Adm'],\n",
    "                   format ='%H:%M %d/%m/%Y'))\n"
   ]
  },
  {
   "cell_type": "markdown",
   "metadata": {},
   "source": [
    "## definición de tiempos"
   ]
  },
  {
   "cell_type": "code",
   "execution_count": 16,
   "metadata": {
    "collapsed": true
   },
   "outputs": [],
   "source": [
    "sidra['DT_Espera Categorizacion'] = sidra['TS_triage'] - sidra['TS_ingreso']\n",
    "sidra['DT_Espera md'] = sidra['TS_atencion'] - sidra['TS_triage']\n",
    "sidra['DT_Atencion md'] = sidra['TS_cierremedico'] - sidra['TS_atencion']\n",
    "sidra['DT_definicion pac'] = sidra['TS_cierremedico'] - sidra['TS_ingreso']\n",
    "sidra['DT_Espera cierre adm'] = sidra['TS_egreso']-sidra['TS_cierremedico']\n",
    "sidra['DT_Total'] = sidra['TS_egreso'] - sidra['TS_ingreso']\n"
   ]
  },
  {
   "cell_type": "markdown",
   "metadata": {},
   "source": [
    "eliminación de algunas columnas redundantes"
   ]
  },
  {
   "cell_type": "code",
   "execution_count": 17,
   "metadata": {
    "scrolled": true
   },
   "outputs": [
    {
     "data": {
      "text/plain": [
       "Index(['Establecimiento', 'RutPaciente', 'Edad', 'Telefono', 'NombrePaciente',\n",
       "       'Sexo_x', 'Direccion', 'Comuna', 'Provincia', 'HoraIngreso',\n",
       "       'FechaIngreso', 'MotivoConsulta', 'Prevision', 'ClasificacionConsulta',\n",
       "       'TipoAccidente', 'NumeroAtencionesAnteriores', 'DiagnosticoPrincipal',\n",
       "       'OtrosDiagnosticos', 'LlegadaEn', 'ProcedenciaPaciente',\n",
       "       'AtInterrumpidaPor', 'HoraAlta', 'FechaAlta', 'AtendidoPor',\n",
       "       'DestinoAlta', 'CondicionAlCierre', 'Pronostico', 'Categorizacion',\n",
       "       'AtencionEnfermeria', 'Hospital', 'Local', 'RUN', 'Nombre',\n",
       "       'Apellido Paterno', 'Apellido Materno', 'Fecha Nacimiento', 'Sexo_y',\n",
       "       'Previsión', 'Plan', 'Condición de Urgencia', 'Fecha Admisión',\n",
       "       'Hora Admisión', 'Fecha Triage', 'Hora Triage', 'Fecha Atención',\n",
       "       'Hora Atención', 'Fecha Cierre Médico', 'Hora Cierre Médico',\n",
       "       'Fecha Cierre Adm', 'Hora Cierre Adm', 'Tiempo Espera Categorizacion',\n",
       "       'Tiempo Espera Atención Médica', 'Tiempo Atención Médica',\n",
       "       'Tiempo Cierre Médico', 'Tiempo Espera Cierre Adm.', 'Tiempo Total',\n",
       "       'TS_ingreso', 'TS_triage', 'TS_atencion', 'TS_cierremedico',\n",
       "       'TS_egreso', 'DT_Espera Categorizacion', 'DT_Espera md',\n",
       "       'DT_Atencion md', 'DT_definicion pac', 'DT_Espera cierre adm',\n",
       "       'DT_Total'],\n",
       "      dtype='object')"
      ]
     },
     "execution_count": 17,
     "metadata": {},
     "output_type": "execute_result"
    },
    {
     "data": {
      "text/plain": [
       "Index(['Establecimiento', 'RutPaciente', 'Edad', 'Telefono', 'Sexo_x',\n",
       "       'Direccion', 'Comuna', 'Provincia', 'MotivoConsulta', 'Prevision',\n",
       "       'ClasificacionConsulta', 'TipoAccidente', 'NumeroAtencionesAnteriores',\n",
       "       'DiagnosticoPrincipal', 'OtrosDiagnosticos', 'LlegadaEn',\n",
       "       'ProcedenciaPaciente', 'AtInterrumpidaPor', 'AtendidoPor',\n",
       "       'DestinoAlta', 'CondicionAlCierre', 'Pronostico', 'Categorizacion',\n",
       "       'AtencionEnfermeria', 'Hospital', 'Local', 'Nombre', 'Apellido Paterno',\n",
       "       'Apellido Materno', 'Fecha Nacimiento', 'Plan', 'Condición de Urgencia',\n",
       "       'TS_ingreso', 'TS_triage', 'TS_atencion', 'TS_cierremedico',\n",
       "       'TS_egreso', 'DT_Espera Categorizacion', 'DT_Espera md',\n",
       "       'DT_Atencion md', 'DT_definicion pac', 'DT_Espera cierre adm',\n",
       "       'DT_Total'],\n",
       "      dtype='object')"
      ]
     },
     "execution_count": 17,
     "metadata": {},
     "output_type": "execute_result"
    }
   ],
   "source": [
    "sidra.columns\n",
    "sidra = sidra.drop(['Fecha Admisión', 'Hora Admisión', \n",
    "'Fecha Triage', 'Hora Triage', \n",
    "'Fecha Atención', 'Hora Atención', \n",
    "'Fecha Cierre Médico', 'Hora Cierre Médico', \n",
    "'Fecha Cierre Adm', 'Hora Cierre Adm', 'Fecha Triage', \n",
    "'Hora Triage', 'Fecha Atención', 'Hora Atención',\n",
    "'HoraAlta', 'FechaAlta', 'HoraIngreso',\n",
    "'Tiempo Espera Categorizacion', 'Tiempo Espera Atención Médica',\n",
    "'Tiempo Atención Médica', 'Tiempo Cierre Médico',\n",
    "'Tiempo Espera Cierre Adm.', 'Tiempo Total',\n",
    "'FechaIngreso', 'NombrePaciente', 'Sexo_y', 'Previsión', 'RUN'], axis=1)\n",
    "sidra.columns\n"
   ]
  },
  {
   "cell_type": "markdown",
   "metadata": {},
   "source": [
    "## Asignación de triage standart para todos"
   ]
  },
  {
   "cell_type": "code",
   "execution_count": 18,
   "metadata": {
    "collapsed": true
   },
   "outputs": [],
   "source": [
    "sidra.loc[sidra.Categorizacion.str.contains('1') == True, 'triage'] = str('Triage 1')\n",
    "sidra.loc[sidra.Categorizacion.str.contains('2') == True, 'triage'] = str('Triage 2')\n",
    "sidra.loc[sidra.Categorizacion.str.contains('3') == True, 'triage'] = str('Triage 3')\n",
    "sidra.loc[sidra.Categorizacion.str.contains('4') == True, 'triage'] = str('Triage 4')\n",
    "sidra.loc[sidra.Categorizacion.str.contains('5') == True, 'triage'] = str('Triage 5')"
   ]
  },
  {
   "cell_type": "code",
   "execution_count": 19,
   "metadata": {
    "scrolled": true
   },
   "outputs": [
    {
     "data": {
      "text/plain": [
       "(14346, 29)"
      ]
     },
     "execution_count": 19,
     "metadata": {},
     "output_type": "execute_result"
    },
    {
     "data": {
      "text/plain": [
       "(12602, 27)"
      ]
     },
     "execution_count": 19,
     "metadata": {},
     "output_type": "execute_result"
    },
    {
     "data": {
      "text/plain": [
       "(14354, 44)"
      ]
     },
     "execution_count": 19,
     "metadata": {},
     "output_type": "execute_result"
    }
   ],
   "source": [
    "MC.shape\n",
    "tiempos.shape\n",
    "sidra.shape"
   ]
  },
  {
   "cell_type": "markdown",
   "metadata": {},
   "source": [
    "## Arreglo las columnas de 'Llegada' y 'ProcedenciaPaciente"
   ]
  },
  {
   "cell_type": "markdown",
   "metadata": {},
   "source": [
    "hay varias maneras de llegar espontáneo, micro, a pie, vehículo..... las agrupo todas. también agrego policía y ambulancia\n",
    "\n",
    "hay varias maneras de llegar en ambulancia.... separo las SAMU (m1, 2, 3) \n",
    "\n",
    "Las nuevas variables son: **Arribo_paciente** y **LlegadaSAMU**\n",
    "\n",
    "Las previas eran:\n",
    "\n",
    "* \tLocomoción Colectiva\n",
    "* \tA Pie\n",
    "* \tVehículo Particular\n",
    "* \tVehículo Policial\n",
    "* \tSAMU Básica (M1)\n",
    "* \tOtra Ambulancia Básica\n",
    "* \tSAMU Avanzada (M2)\n",
    "* \tOtra Ambulancia Avanzada\n",
    "* \tOtra Ambulancia Medicalizada\n",
    "* \tSAMU Medicalizada (M3)\n",
    "* \tAéreo (Crítico)\n",
    "* \tMarítimo (Crítico)\n",
    "* \tNo Crítico (Marítimo)\n",
    "* \tNo Crítico (Aéreo)\n"
   ]
  },
  {
   "cell_type": "code",
   "execution_count": 20,
   "metadata": {
    "collapsed": true
   },
   "outputs": [],
   "source": [
    "sidra.loc[(sidra.LlegadaEn == 'Locomoción Colectiva') |\n",
    "\t\t\t\t(sidra.LlegadaEn == 'A Pie') |\n",
    "\t\t\t\t(sidra.LlegadaEn == 'Vehículo Particular'),\n",
    "\t\t\t\t'Arribo_paciente' \n",
    "\t\t\t\t] = 'Espontáneo'\n",
    "\n",
    "sidra.loc[(sidra.LlegadaEn == 'Vehículo Policial'),\n",
    "\t\t\t\t'Arribo_paciente' \n",
    "\t\t\t\t] = 'Policia'\n",
    "\n",
    "sidra.loc[(sidra.LlegadaEn == 'SAMU Básica (M1)') |\n",
    "\t\t\t\t(sidra.LlegadaEn == 'SAMU Avanzada (M2)') |\n",
    "\t\t\t\t(sidra.LlegadaEn == 'SAMU Medicalizada (M3)') |\n",
    "\t\t\t\t(sidra.LlegadaEn == 'Otra Ambulancia Básica') |\n",
    "\t\t\t\t(sidra.LlegadaEn == 'Otra Ambulancia Avanzada') |\n",
    "\t\t\t\t(sidra.LlegadaEn == 'Otra Ambulancia Medicalizada') ,\n",
    "\t\t\t\t'Arribo_paciente'\n",
    "\t\t\t\t] = 'Ambulancia'\n",
    "\n",
    "sidra.loc[(sidra.LlegadaEn == 'SAMU Básica (M1)') ,\n",
    "\t\t\t\t'LlegadaSAMU'\n",
    "\t\t\t\t] = 'SAMU Básica M1'\n",
    "\n",
    "sidra.loc[(sidra.LlegadaEn == 'SAMU Avanzada (M2)') ,\n",
    "\t\t\t\t'LlegadaSAMU'\n",
    "\t\t\t\t] = 'SAMU Avanzada M2'\n",
    "\n",
    "sidra.loc[(sidra.LlegadaEn == 'SAMU Medicalizada (M3)') ,\n",
    "\t\t\t\t'LlegadaSAMU'\n",
    "\t\t\t\t] = 'SAMU Medicalizada M3'"
   ]
  },
  {
   "cell_type": "markdown",
   "metadata": {},
   "source": [
    "las opciones de quien refiere al paciente son varias...... las que categorizo en la nueva variable **Origen_paciente** entre:\n",
    "* 'Origen Espontáneo'\n",
    "* 'Referido Centro público'\n",
    "* 'Referido centro privado'\n",
    "* 'Otro origen'\n",
    "\n",
    "las previas eran:\n",
    "* \tEspontáneo\n",
    "* \tReferido desde Otro Establecimiento de la Red\n",
    "* \tOtra Procedencia (Rural, Policial y Otros)\n",
    "* \tReferido desde SAPU / SUR / SAR\n",
    "* \tReferido Establecimiento Extra-Red\n",
    "* \tReferido desde APS\n",
    "* \tReferido de Atención de Especialidades\n",
    "* \tReferido desde Urgencias\n",
    "* \tReferido desde Hospitalización\n"
   ]
  },
  {
   "cell_type": "code",
   "execution_count": 21,
   "metadata": {
    "collapsed": true
   },
   "outputs": [],
   "source": [
    "sidra.loc[(sidra.ProcedenciaPaciente == 'Espontáneo'),\n",
    "\t\t\t\t'Origen_paciente' \n",
    "\t\t\t\t] = 'Origen Espontáneo'\n",
    "\n",
    "sidra.loc[(sidra.ProcedenciaPaciente == 'Referido desde Otro Establecimiento de la Red') |\n",
    "\t\t\t\t(sidra.ProcedenciaPaciente == 'Referido desde SAPU / SUR / SAR') |\n",
    "\t\t\t\t(sidra.ProcedenciaPaciente == 'Referido desde APS') |\n",
    "\t\t\t\t(sidra.ProcedenciaPaciente == 'Referido de Atención de Especialidades') |\n",
    "\t\t\t\t(sidra.ProcedenciaPaciente == 'Referido desde Urgencias') |\n",
    "\t\t\t\t(sidra.ProcedenciaPaciente == 'Referido desde Hospitalización') ,\n",
    "\t\t\t\t'Origen_paciente' \n",
    "\t\t\t\t] = 'Referido centro público'\n",
    "\n",
    "sidra.loc[(sidra.ProcedenciaPaciente == 'Referido Establecimiento Extra-Red') ,\n",
    "\t\t\t\t'Origen_paciente' \n",
    "\t\t\t\t] = 'Referido centro privado'\n",
    "\n",
    "sidra.loc[(sidra.ProcedenciaPaciente == 'Otra Procedencia (Rural, Policial y Otros)') ,\n",
    "\t\t\t\t'Origen_paciente' \n",
    "\t\t\t\t] = 'Otro origen'\n",
    "\n"
   ]
  },
  {
   "cell_type": "markdown",
   "metadata": {},
   "source": [
    "el DestinoAlta de los pacientes lo categorizo de mejor forma en la nueva variable **Destino_paciente**......\n",
    "\n",
    "antes era:\n",
    "* \tDomicilio\n",
    "* \tHospitalización\n",
    "* \tCarabineros\n",
    "* \tOtro Centro o institución\n",
    "* \tTraslado Red\n",
    "\n",
    "ahora es :\n",
    "* Alta domiciliaria\n",
    "* Policía\n",
    "* Traslado a otro centro\n",
    "* Hospitalización\n",
    "\n"
   ]
  },
  {
   "cell_type": "code",
   "execution_count": 22,
   "metadata": {
    "collapsed": true
   },
   "outputs": [],
   "source": [
    "sidra.loc[ (sidra.DestinoAlta == 'Domicilio'),\n",
    "\t\t\t\t'Destino_paciente' \n",
    "\t\t\t\t] = 'Alta domiciliaria'\n",
    "\n",
    "sidra.loc[ (sidra.DestinoAlta == 'Traslado Extra red - Compra de Servicio') |\n",
    "\t\t(sidra.DestinoAlta == 'Traslado Extra - Red') |\n",
    "\t\t(sidra.DestinoAlta == 'Traslado Extra Red - Voluntario') |\n",
    "\t\t(sidra.DestinoAlta == 'Derivación Hospital Red Nacional') |\n",
    "\t\t(sidra.DestinoAlta == 'Derivación Hospital Servicio de Salud') |\n",
    "\t\t(sidra.DestinoAlta == 'Otro Centro o institución') |\n",
    "\t\t(sidra.DestinoAlta == 'Traslado Red'),\n",
    "\t\t\t\t'Destino_paciente' \n",
    "\t\t\t\t] = 'Traslado a otro centro'\n",
    "\n",
    "sidra.loc[ (sidra.DestinoAlta == 'Carabineros') |\n",
    "\t\t(sidra.DestinoAlta == 'Servicio Médico Legal') |\n",
    "\t\t(sidra.DestinoAlta == 'PDI'),\n",
    "\t\t\t\t'Destino_paciente' \n",
    "\t\t\t\t] = 'Policía'\n",
    "\n",
    "sidra.loc[ (sidra.DestinoAlta == 'Hospitalización') |\n",
    "\t\t(sidra.DestinoAlta == 'Hospitalización Domiciliaria'),\n",
    "\t\t\t\t'Destino_paciente' \n",
    "\t\t\t\t] = 'Hospitalización'\n",
    "\n",
    "sidra.loc[ (sidra.DestinoAlta == 'Anatomía Patológica'),\n",
    "\t\t\t\t'Destino_paciente' \n",
    "\t\t\t\t] = 'Anatomía Patológica'"
   ]
  },
  {
   "cell_type": "markdown",
   "metadata": {},
   "source": [
    "# Turnos de enfermería"
   ]
  },
  {
   "cell_type": "markdown",
   "metadata": {},
   "source": [
    "##  turnos de personas\n"
   ]
  },
  {
   "cell_type": "code",
   "execution_count": 23,
   "metadata": {
    "scrolled": true
   },
   "outputs": [
    {
     "data": {
      "text/plain": [
       "<timeboard.core._Schedule at 0x7f219a7e7d30>"
      ]
     },
     "execution_count": 23,
     "metadata": {},
     "output_type": "execute_result"
    },
    {
     "data": {
      "text/plain": [
       "<timeboard.core._Schedule at 0x7f219b0506d8>"
      ]
     },
     "execution_count": 23,
     "metadata": {},
     "output_type": "execute_result"
    },
    {
     "data": {
      "text/plain": [
       "<timeboard.core._Schedule at 0x7f21e3db1be0>"
      ]
     },
     "execution_count": 23,
     "metadata": {},
     "output_type": "execute_result"
    },
    {
     "data": {
      "text/plain": [
       "<timeboard.core._Schedule at 0x7f21e3db1cc0>"
      ]
     },
     "execution_count": 23,
     "metadata": {},
     "output_type": "execute_result"
    }
   ],
   "source": [
    "turnos = tb.Timeboard(base_unit_freq='12H',\n",
    "                     start='31-12-2016 08:00:00', end='10-10-2019 08:00:00',\n",
    "                     layout=['A', 'D',\n",
    "                                'B', 'A',\n",
    "                                'C', 'B',\n",
    "                                'D', 'C'\n",
    "                               ])\n",
    "\n",
    "\n",
    "turnos.add_schedule(name='Turno I', selector=lambda label: label=='A')\n",
    "turnos.add_schedule(name='Turno II', selector=lambda label: label=='B')\n",
    "turnos.add_schedule(name='Turno III', selector=lambda label: label=='C')\n",
    "turnos.add_schedule(name='Turno IV', selector=lambda label: label=='D')\n",
    "\n"
   ]
  },
  {
   "cell_type": "markdown",
   "metadata": {},
   "source": [
    "Defino la participación de los turnos"
   ]
  },
  {
   "cell_type": "code",
   "execution_count": 24,
   "metadata": {
    "collapsed": true,
    "scrolled": true
   },
   "outputs": [],
   "source": [
    "# turnoI = turnos.schedules['Turno I']\n",
    "# turnoII = turnos.schedules['Turno II']\n",
    "# turnoIII = turnos.schedules['Turno III']\n",
    "# turnoIV  = turnos.schedules['Turno IV']"
   ]
  },
  {
   "cell_type": "markdown",
   "metadata": {},
   "source": [
    "Asignno series de listas para cada turno"
   ]
  },
  {
   "cell_type": "code",
   "execution_count": 25,
   "metadata": {
    "collapsed": true
   },
   "outputs": [],
   "source": [
    "# turno_quien_I = []\n",
    "# turno_quien_II = []\n",
    "# turno_quien_III = []\n",
    "# turno_quien_IV = []\n",
    "\n",
    "# for dummy in sidra['TS_ingreso']:\n",
    "#     turno_quien_I.append(turnos.get_workshift(dummy, schedule=turnoI).is_on_duty())\n",
    "# for dummy in sidra['TS_ingreso']:\n",
    "#     turno_quien_II.append(turnos.get_workshift(dummy, schedule=turnoII).is_on_duty())\n",
    "# for dummy in sidra['TS_ingreso']:\n",
    "#     turno_quien_III.append(turnos.get_workshift(dummy, schedule=turnoIII).is_on_duty())\n",
    "# for dummy in sidra['TS_ingreso']:\n",
    "#     turno_quien_IV.append(turnos.get_workshift(dummy, schedule=turnoIV).is_on_duty())"
   ]
  },
  {
   "cell_type": "markdown",
   "metadata": {},
   "source": [
    "para asignarlas finalmente a la base de datos"
   ]
  },
  {
   "cell_type": "code",
   "execution_count": 26,
   "metadata": {
    "collapsed": true,
    "scrolled": true
   },
   "outputs": [],
   "source": [
    "# sidra['Turno'] = ''\n",
    "# sidra['turno_quien_I'] = turno_quien_I\n",
    "# sidra['turno_quien_II'] = turno_quien_II\n",
    "# sidra['turno_quien_III'] = turno_quien_III\n",
    "# sidra['turno_quien_IV'] = turno_quien_IV"
   ]
  },
  {
   "cell_type": "code",
   "execution_count": 27,
   "metadata": {
    "collapsed": true
   },
   "outputs": [],
   "source": [
    "# sidra['turno_quien_IV'].value_counts()"
   ]
  },
  {
   "cell_type": "code",
   "execution_count": 28,
   "metadata": {
    "collapsed": true
   },
   "outputs": [],
   "source": [
    "# sidra.loc[sidra.turno_quien_I == True, 'Turno'] = str('Turno I')\n",
    "# sidra.loc[sidra.turno_quien_II == True, 'Turno'] = str('Turno II')\n",
    "# sidra.loc[sidra.turno_quien_III == True, 'Turno'] = str('Turno III')\n",
    "# sidra.loc[sidra.turno_quien_IV == True, 'Turno'] = str('Turno IV')\n",
    "\n",
    "# #sidra.columns\n",
    "# sidra.Turno.value_counts()"
   ]
  },
  {
   "cell_type": "markdown",
   "metadata": {},
   "source": [
    "Borro los pasos intermedios"
   ]
  },
  {
   "cell_type": "code",
   "execution_count": 29,
   "metadata": {
    "collapsed": true,
    "scrolled": true
   },
   "outputs": [],
   "source": [
    "# sidra = sidra.drop('turno_quien_I', 1)\n",
    "# sidra = sidra.drop('turno_quien_II', 1)\n",
    "# sidra = sidra.drop('turno_quien_III', 1)\n",
    "# sidra = sidra.drop('turno_quien_IV', 1)"
   ]
  },
  {
   "cell_type": "code",
   "execution_count": 30,
   "metadata": {
    "collapsed": true
   },
   "outputs": [],
   "source": [
    "sidra['Turno'] = 'hola!'"
   ]
  },
  {
   "cell_type": "markdown",
   "metadata": {},
   "source": [
    "# ordeno las columnas de la BD"
   ]
  },
  {
   "cell_type": "code",
   "execution_count": 31,
   "metadata": {},
   "outputs": [
    {
     "data": {
      "text/plain": [
       "Index(['Establecimiento', 'RutPaciente', 'Edad', 'Telefono', 'Sexo_x',\n",
       "       'Direccion', 'Comuna', 'Provincia', 'MotivoConsulta', 'Prevision',\n",
       "       'ClasificacionConsulta', 'TipoAccidente', 'NumeroAtencionesAnteriores',\n",
       "       'DiagnosticoPrincipal', 'OtrosDiagnosticos', 'LlegadaEn',\n",
       "       'ProcedenciaPaciente', 'AtInterrumpidaPor', 'AtendidoPor',\n",
       "       'DestinoAlta', 'CondicionAlCierre', 'Pronostico', 'Categorizacion',\n",
       "       'AtencionEnfermeria', 'Hospital', 'Local', 'Nombre', 'Apellido Paterno',\n",
       "       'Apellido Materno', 'Fecha Nacimiento', 'Plan', 'Condición de Urgencia',\n",
       "       'TS_ingreso', 'TS_triage', 'TS_atencion', 'TS_cierremedico',\n",
       "       'TS_egreso', 'DT_Espera Categorizacion', 'DT_Espera md',\n",
       "       'DT_Atencion md', 'DT_definicion pac', 'DT_Espera cierre adm',\n",
       "       'DT_Total', 'triage', 'Arribo_paciente', 'LlegadaSAMU',\n",
       "       'Origen_paciente', 'Destino_paciente', 'Turno'],\n",
       "      dtype='object')"
      ]
     },
     "execution_count": 31,
     "metadata": {},
     "output_type": "execute_result"
    }
   ],
   "source": [
    "sidra.columns"
   ]
  },
  {
   "cell_type": "code",
   "execution_count": 32,
   "metadata": {
    "collapsed": true
   },
   "outputs": [],
   "source": [
    "dum_orden = ['Establecimiento', 'RutPaciente', 'Edad', 'Sexo_x',\n",
    "              'Comuna', 'Provincia', 'MotivoConsulta', 'Prevision', \n",
    "              'Telefono','Direccion',\n",
    "              'Nombre', 'Apellido Paterno', 'Apellido Materno', 'Fecha Nacimiento',\n",
    "              'Plan', 'Condición de Urgencia',\n",
    "              'ClasificacionConsulta', 'TipoAccidente', 'NumeroAtencionesAnteriores',\n",
    "              'DiagnosticoPrincipal', 'OtrosDiagnosticos', 'LlegadaEn',\n",
    "              'ProcedenciaPaciente',\n",
    "\n",
    "              'Origen_paciente','Arribo_paciente', 'LlegadaSAMU', # nuevas variables\n",
    "              'Destino_paciente',                                 # nuevas variables\n",
    "              \n",
    "              'AtInterrumpidaPor', 'AtendidoPor', 'DestinoAlta', 'CondicionAlCierre',\n",
    "              'Pronostico', 'Categorizacion', 'AtencionEnfermeria', \n",
    "              'Local',\n",
    "              'TS_ingreso', 'TS_triage', 'TS_atencion', 'TS_cierremedico',\n",
    "              'TS_egreso', 'DT_Espera Categorizacion', 'DT_Espera md',\n",
    "              'DT_Atencion md', 'DT_definicion pac', 'DT_Espera cierre adm',\n",
    "              'DT_Total', 'triage'  ,'Turno'] "
   ]
  },
  {
   "cell_type": "code",
   "execution_count": 33,
   "metadata": {
    "collapsed": true
   },
   "outputs": [],
   "source": [
    "sidra = sidra[dum_orden]\n",
    "sidra.columns = ['Establecimiento', 'RutPaciente', 'Edad', 'Sexo_x',\n",
    "              'Comuna', 'Provincia', 'MotivoConsulta', 'Prevision', \n",
    "              'Telefono','Direccion',\n",
    "              'Nombre', 'Apellido Paterno', 'Apellido Materno', 'Fecha Nacimiento',\n",
    "              'Plan', 'Condición de Urgencia',\n",
    "              'ClasificacionConsulta', 'TipoAccidente', 'NumeroAtencionesAnteriores',\n",
    "              'DiagnosticoPrincipal', 'OtrosDiagnosticos', 'LlegadaEn',\n",
    "              'ProcedenciaPaciente',\n",
    "\n",
    "              'Origen_paciente','Arribo_paciente', 'LlegadaSAMU', # nuevas variables\n",
    "              'Destino_paciente',                                 # nuevas variables\n",
    "\n",
    "              'AtInterrumpidaPor', 'AtendidoPor', 'DestinoAlta', 'CondicionAlCierre',\n",
    "              'Pronostico', 'Categorizacion', 'AtencionEnfermeria', \n",
    "              'Local',\n",
    "              'TS_ingreso', 'TS_triage', 'TS_atencion', 'TS_cierremedico',\n",
    "              'TS_egreso', 'DT_EsperaCategorizacion', 'DT_EsperaMD',\n",
    "              'DT_AtencionMD', 'DT_definicionPAC', 'DT_Espera_CierreAdm',\n",
    "              'DT_Total', 'Triage' , 'Turno']"
   ]
  },
  {
   "cell_type": "code",
   "execution_count": 34,
   "metadata": {},
   "outputs": [
    {
     "data": {
      "text/html": [
       "<div>\n",
       "<style scoped>\n",
       "    .dataframe tbody tr th:only-of-type {\n",
       "        vertical-align: middle;\n",
       "    }\n",
       "\n",
       "    .dataframe tbody tr th {\n",
       "        vertical-align: top;\n",
       "    }\n",
       "\n",
       "    .dataframe thead th {\n",
       "        text-align: right;\n",
       "    }\n",
       "</style>\n",
       "<table border=\"1\" class=\"dataframe\">\n",
       "  <thead>\n",
       "    <tr style=\"text-align: right;\">\n",
       "      <th></th>\n",
       "      <th>Establecimiento</th>\n",
       "      <th>RutPaciente</th>\n",
       "      <th>Edad</th>\n",
       "      <th>Sexo_x</th>\n",
       "      <th>Comuna</th>\n",
       "      <th>Provincia</th>\n",
       "      <th>MotivoConsulta</th>\n",
       "      <th>Prevision</th>\n",
       "      <th>Telefono</th>\n",
       "      <th>Direccion</th>\n",
       "      <th>...</th>\n",
       "      <th>TS_cierremedico</th>\n",
       "      <th>TS_egreso</th>\n",
       "      <th>DT_EsperaCategorizacion</th>\n",
       "      <th>DT_EsperaMD</th>\n",
       "      <th>DT_AtencionMD</th>\n",
       "      <th>DT_definicionPAC</th>\n",
       "      <th>DT_Espera_CierreAdm</th>\n",
       "      <th>DT_Total</th>\n",
       "      <th>Triage</th>\n",
       "      <th>Turno</th>\n",
       "    </tr>\n",
       "    <tr>\n",
       "      <th>NumeroEpisodio</th>\n",
       "      <th></th>\n",
       "      <th></th>\n",
       "      <th></th>\n",
       "      <th></th>\n",
       "      <th></th>\n",
       "      <th></th>\n",
       "      <th></th>\n",
       "      <th></th>\n",
       "      <th></th>\n",
       "      <th></th>\n",
       "      <th></th>\n",
       "      <th></th>\n",
       "      <th></th>\n",
       "      <th></th>\n",
       "      <th></th>\n",
       "      <th></th>\n",
       "      <th></th>\n",
       "      <th></th>\n",
       "      <th></th>\n",
       "      <th></th>\n",
       "      <th></th>\n",
       "    </tr>\n",
       "  </thead>\n",
       "  <tbody>\n",
       "    <tr>\n",
       "      <th>U0003160771</th>\n",
       "      <td>Hospital Santo Tomás (Limache)</td>\n",
       "      <td>12041027-k</td>\n",
       "      <td>51.0</td>\n",
       "      <td>Hombre</td>\n",
       "      <td>Limache</td>\n",
       "      <td>Marga Marga</td>\n",
       "      <td>DOLOR DE PECHO, HTA, DIABETICO</td>\n",
       "      <td>FONASA</td>\n",
       "      <td>987166352.0</td>\n",
       "      <td>EL NARANJO  680  LIMACHE</td>\n",
       "      <td>...</td>\n",
       "      <td>2019-10-16 01:46:00</td>\n",
       "      <td>NaT</td>\n",
       "      <td>NaT</td>\n",
       "      <td>NaT</td>\n",
       "      <td>NaT</td>\n",
       "      <td>01:41:00</td>\n",
       "      <td>NaT</td>\n",
       "      <td>NaT</td>\n",
       "      <td>Triage 2</td>\n",
       "      <td>hola!</td>\n",
       "    </tr>\n",
       "    <tr>\n",
       "      <th>U0003160776</th>\n",
       "      <td>Hospital Santo Tomás (Limache)</td>\n",
       "      <td>23268139-k</td>\n",
       "      <td>9.0</td>\n",
       "      <td>Hombre</td>\n",
       "      <td>Limache</td>\n",
       "      <td>Marga Marga</td>\n",
       "      <td>PROBLEMAS ESTOMACALES</td>\n",
       "      <td>FONASA</td>\n",
       "      <td>977911604.0</td>\n",
       "      <td>EL ESPINO LOTE 10 PB. ORVAL</td>\n",
       "      <td>...</td>\n",
       "      <td>2019-10-16 01:08:00</td>\n",
       "      <td>2019-10-16 01:17:00</td>\n",
       "      <td>00:04:00</td>\n",
       "      <td>00:21:00</td>\n",
       "      <td>00:23:00</td>\n",
       "      <td>00:48:00</td>\n",
       "      <td>00:09:00</td>\n",
       "      <td>00:57:00</td>\n",
       "      <td>Triage 4</td>\n",
       "      <td>hola!</td>\n",
       "    </tr>\n",
       "    <tr>\n",
       "      <th>U0003160787</th>\n",
       "      <td>Hospital Santo Tomás (Limache)</td>\n",
       "      <td>25298248-5</td>\n",
       "      <td>3.0</td>\n",
       "      <td>Mujer</td>\n",
       "      <td>Limache</td>\n",
       "      <td>Marga Marga</td>\n",
       "      <td>VOMITOS, DOLOR DE ESTOMAGO, DOLOR DE OIDOS</td>\n",
       "      <td>PREVISION PROVISORIA</td>\n",
       "      <td>NaN</td>\n",
       "      <td>PSJE. JULIETA GUNDLACH 709 LIMACHITO</td>\n",
       "      <td>...</td>\n",
       "      <td>2019-10-16 01:02:00</td>\n",
       "      <td>2019-10-16 01:08:00</td>\n",
       "      <td>00:03:00</td>\n",
       "      <td>00:21:00</td>\n",
       "      <td>00:06:00</td>\n",
       "      <td>00:30:00</td>\n",
       "      <td>00:06:00</td>\n",
       "      <td>00:36:00</td>\n",
       "      <td>Triage 4</td>\n",
       "      <td>hola!</td>\n",
       "    </tr>\n",
       "    <tr>\n",
       "      <th>U0003160794</th>\n",
       "      <td>Hospital Santo Tomás (Limache)</td>\n",
       "      <td>11734350-2</td>\n",
       "      <td>49.0</td>\n",
       "      <td>Hombre</td>\n",
       "      <td>Limache</td>\n",
       "      <td>Marga Marga</td>\n",
       "      <td>DOLOR LUMBAR</td>\n",
       "      <td>FONASA</td>\n",
       "      <td>995971808.0</td>\n",
       "      <td>VILLA QUERONQUE BL.14 DEPTO.6</td>\n",
       "      <td>...</td>\n",
       "      <td>2019-10-16 01:17:00</td>\n",
       "      <td>2019-10-16 01:25:00</td>\n",
       "      <td>00:03:00</td>\n",
       "      <td>00:19:00</td>\n",
       "      <td>00:05:00</td>\n",
       "      <td>00:27:00</td>\n",
       "      <td>00:08:00</td>\n",
       "      <td>00:35:00</td>\n",
       "      <td>Triage 5</td>\n",
       "      <td>hola!</td>\n",
       "    </tr>\n",
       "    <tr>\n",
       "      <th>U0003160812</th>\n",
       "      <td>Hospital Santo Tomás (Limache)</td>\n",
       "      <td>16889698-0</td>\n",
       "      <td>29.0</td>\n",
       "      <td>Hombre</td>\n",
       "      <td>Limache</td>\n",
       "      <td>Marga Marga</td>\n",
       "      <td>CONSTATAR LESIONES</td>\n",
       "      <td>PREVISION PROVISORIA</td>\n",
       "      <td>79273710.0</td>\n",
       "      <td>ANGAMOS Nº350</td>\n",
       "      <td>...</td>\n",
       "      <td>2019-10-16 02:09:00</td>\n",
       "      <td>2019-10-16 02:10:00</td>\n",
       "      <td>00:00:00</td>\n",
       "      <td>00:24:00</td>\n",
       "      <td>00:01:00</td>\n",
       "      <td>00:25:00</td>\n",
       "      <td>00:01:00</td>\n",
       "      <td>00:26:00</td>\n",
       "      <td>Triage 3</td>\n",
       "      <td>hola!</td>\n",
       "    </tr>\n",
       "  </tbody>\n",
       "</table>\n",
       "<p>5 rows × 48 columns</p>\n",
       "</div>"
      ],
      "text/plain": [
       "                               Establecimiento RutPaciente  Edad  Sexo_x  \\\n",
       "NumeroEpisodio                                                             \n",
       "U0003160771     Hospital Santo Tomás (Limache)  12041027-k  51.0  Hombre   \n",
       "U0003160776     Hospital Santo Tomás (Limache)  23268139-k   9.0  Hombre   \n",
       "U0003160787     Hospital Santo Tomás (Limache)  25298248-5   3.0   Mujer   \n",
       "U0003160794     Hospital Santo Tomás (Limache)  11734350-2  49.0  Hombre   \n",
       "U0003160812     Hospital Santo Tomás (Limache)  16889698-0  29.0  Hombre   \n",
       "\n",
       "                 Comuna    Provincia  \\\n",
       "NumeroEpisodio                         \n",
       "U0003160771     Limache  Marga Marga   \n",
       "U0003160776     Limache  Marga Marga   \n",
       "U0003160787     Limache  Marga Marga   \n",
       "U0003160794     Limache  Marga Marga   \n",
       "U0003160812     Limache  Marga Marga   \n",
       "\n",
       "                                            MotivoConsulta  \\\n",
       "NumeroEpisodio                                               \n",
       "U0003160771                 DOLOR DE PECHO, HTA, DIABETICO   \n",
       "U0003160776                          PROBLEMAS ESTOMACALES   \n",
       "U0003160787     VOMITOS, DOLOR DE ESTOMAGO, DOLOR DE OIDOS   \n",
       "U0003160794                                   DOLOR LUMBAR   \n",
       "U0003160812                             CONSTATAR LESIONES   \n",
       "\n",
       "                           Prevision     Telefono  \\\n",
       "NumeroEpisodio                                      \n",
       "U0003160771                   FONASA  987166352.0   \n",
       "U0003160776                   FONASA  977911604.0   \n",
       "U0003160787     PREVISION PROVISORIA          NaN   \n",
       "U0003160794                   FONASA  995971808.0   \n",
       "U0003160812     PREVISION PROVISORIA   79273710.0   \n",
       "\n",
       "                                           Direccion  ...    \\\n",
       "NumeroEpisodio                                        ...     \n",
       "U0003160771                 EL NARANJO  680  LIMACHE  ...     \n",
       "U0003160776              EL ESPINO LOTE 10 PB. ORVAL  ...     \n",
       "U0003160787     PSJE. JULIETA GUNDLACH 709 LIMACHITO  ...     \n",
       "U0003160794            VILLA QUERONQUE BL.14 DEPTO.6  ...     \n",
       "U0003160812                            ANGAMOS Nº350  ...     \n",
       "\n",
       "                   TS_cierremedico           TS_egreso  \\\n",
       "NumeroEpisodio                                           \n",
       "U0003160771    2019-10-16 01:46:00                 NaT   \n",
       "U0003160776    2019-10-16 01:08:00 2019-10-16 01:17:00   \n",
       "U0003160787    2019-10-16 01:02:00 2019-10-16 01:08:00   \n",
       "U0003160794    2019-10-16 01:17:00 2019-10-16 01:25:00   \n",
       "U0003160812    2019-10-16 02:09:00 2019-10-16 02:10:00   \n",
       "\n",
       "               DT_EsperaCategorizacion DT_EsperaMD DT_AtencionMD  \\\n",
       "NumeroEpisodio                                                     \n",
       "U0003160771                        NaT         NaT           NaT   \n",
       "U0003160776                   00:04:00    00:21:00      00:23:00   \n",
       "U0003160787                   00:03:00    00:21:00      00:06:00   \n",
       "U0003160794                   00:03:00    00:19:00      00:05:00   \n",
       "U0003160812                   00:00:00    00:24:00      00:01:00   \n",
       "\n",
       "               DT_definicionPAC DT_Espera_CierreAdm DT_Total    Triage  Turno  \n",
       "NumeroEpisodio                                                                 \n",
       "U0003160771            01:41:00                 NaT      NaT  Triage 2  hola!  \n",
       "U0003160776            00:48:00            00:09:00 00:57:00  Triage 4  hola!  \n",
       "U0003160787            00:30:00            00:06:00 00:36:00  Triage 4  hola!  \n",
       "U0003160794            00:27:00            00:08:00 00:35:00  Triage 5  hola!  \n",
       "U0003160812            00:25:00            00:01:00 00:26:00  Triage 3  hola!  \n",
       "\n",
       "[5 rows x 48 columns]"
      ]
     },
     "execution_count": 34,
     "metadata": {},
     "output_type": "execute_result"
    }
   ],
   "source": [
    "sidra.head()"
   ]
  },
  {
   "cell_type": "markdown",
   "metadata": {},
   "source": [
    "# Exportar los archivos"
   ]
  },
  {
   "cell_type": "code",
   "execution_count": 35,
   "metadata": {
    "collapsed": true
   },
   "outputs": [],
   "source": [
    "#MC.to_pickle('./BD generadas/BD mar/Motivos de consulta SIDRA.pkl')"
   ]
  },
  {
   "cell_type": "code",
   "execution_count": 36,
   "metadata": {
    "collapsed": true
   },
   "outputs": [],
   "source": [
    "#tiempos.to_pickle('./BD generadas/BD mar/Tiempos SIDRA.pkl')"
   ]
  },
  {
   "cell_type": "code",
   "execution_count": 37,
   "metadata": {
    "collapsed": true
   },
   "outputs": [],
   "source": [
    "sidra.to_pickle('./BDs/BD compiladas/sidra.pkl')"
   ]
  },
  {
   "cell_type": "code",
   "execution_count": 38,
   "metadata": {
    "collapsed": true
   },
   "outputs": [],
   "source": [
    "#tiempo_estada.to_pickle('../BD generadas/Limache/Limache tiempo_estada.pkl')"
   ]
  },
  {
   "cell_type": "code",
   "execution_count": 39,
   "metadata": {
    "collapsed": true
   },
   "outputs": [],
   "source": [
    "#prof_categorizador.to_pickle('../BD generadas/Limache/Limache prof_categorizador_2019.pkl')"
   ]
  },
  {
   "cell_type": "code",
   "execution_count": 40,
   "metadata": {
    "collapsed": true
   },
   "outputs": [],
   "source": [
    "# MC.head(10000).to_csv('./BD generadas/BD mar/MC.csv')\n",
    "# tiempos.head(10000).to_csv('./BD generadas/BD mar/ tiempos.csv')\n",
    "# sidra.head(10000).to_csv('./BD generadas/BD mar/sidra.csv')"
   ]
  },
  {
   "cell_type": "markdown",
   "metadata": {},
   "source": [
    "# Análsisi generales"
   ]
  },
  {
   "cell_type": "code",
   "execution_count": 41,
   "metadata": {
    "scrolled": true
   },
   "outputs": [
    {
     "data": {
      "text/plain": [
       "Hospital Dr Gustavo Fricke (Viña del Mar)                     3724\n",
       "Hospital San Martín (Quillota)                                2172\n",
       "Hospital de Quilpué                                           2020\n",
       "Hospital Dr Mario Sánchez Vergara (La Calera)                 1211\n",
       "Hospital Adriana Cousiño (Quintero)                           1147\n",
       "Hospital Santo Tomás (Limache)                                1091\n",
       "Hospital Juana Ross de Edwards (Peñablanca, Villa Alemana)    1017\n",
       "Hospital San Agustín (La Ligua)                               1010\n",
       "Hospital Dr Víctor Hugo Moll (Cabildo)                         629\n",
       "Hospital de Petorca                                            325\n",
       "Name: Establecimiento, dtype: int64"
      ]
     },
     "execution_count": 41,
     "metadata": {},
     "output_type": "execute_result"
    },
    {
     "data": {
      "text/html": [
       "<div>\n",
       "<style scoped>\n",
       "    .dataframe tbody tr th:only-of-type {\n",
       "        vertical-align: middle;\n",
       "    }\n",
       "\n",
       "    .dataframe tbody tr th {\n",
       "        vertical-align: top;\n",
       "    }\n",
       "\n",
       "    .dataframe thead th {\n",
       "        text-align: right;\n",
       "    }\n",
       "</style>\n",
       "<table border=\"1\" class=\"dataframe\">\n",
       "  <thead>\n",
       "    <tr style=\"text-align: right;\">\n",
       "      <th></th>\n",
       "      <th>count</th>\n",
       "      <th>unique</th>\n",
       "      <th>top</th>\n",
       "      <th>freq</th>\n",
       "      <th>first</th>\n",
       "      <th>last</th>\n",
       "    </tr>\n",
       "    <tr>\n",
       "      <th>Establecimiento</th>\n",
       "      <th></th>\n",
       "      <th></th>\n",
       "      <th></th>\n",
       "      <th></th>\n",
       "      <th></th>\n",
       "      <th></th>\n",
       "    </tr>\n",
       "  </thead>\n",
       "  <tbody>\n",
       "    <tr>\n",
       "      <th>Hospital Adriana Cousiño (Quintero)</th>\n",
       "      <td>1147</td>\n",
       "      <td>1112</td>\n",
       "      <td>2019-10-20 19:37:00</td>\n",
       "      <td>3</td>\n",
       "      <td>2019-10-16 00:07:00</td>\n",
       "      <td>2019-10-25 22:59:00</td>\n",
       "    </tr>\n",
       "    <tr>\n",
       "      <th>Hospital Dr Gustavo Fricke (Viña del Mar)</th>\n",
       "      <td>3724</td>\n",
       "      <td>3240</td>\n",
       "      <td>2019-10-25 09:37:00</td>\n",
       "      <td>3</td>\n",
       "      <td>2019-10-16 00:00:00</td>\n",
       "      <td>2019-10-26 08:46:00</td>\n",
       "    </tr>\n",
       "    <tr>\n",
       "      <th>Hospital Dr Mario Sánchez Vergara (La Calera)</th>\n",
       "      <td>1211</td>\n",
       "      <td>1180</td>\n",
       "      <td>2019-10-24 20:43:00</td>\n",
       "      <td>2</td>\n",
       "      <td>2019-10-16 00:25:00</td>\n",
       "      <td>2019-10-25 23:18:00</td>\n",
       "    </tr>\n",
       "    <tr>\n",
       "      <th>Hospital Dr Víctor Hugo Moll (Cabildo)</th>\n",
       "      <td>629</td>\n",
       "      <td>619</td>\n",
       "      <td>2019-10-18 12:05:00</td>\n",
       "      <td>2</td>\n",
       "      <td>2019-10-16 02:37:00</td>\n",
       "      <td>2019-10-25 22:16:00</td>\n",
       "    </tr>\n",
       "    <tr>\n",
       "      <th>Hospital Juana Ross de Edwards (Peñablanca, Villa Alemana)</th>\n",
       "      <td>1017</td>\n",
       "      <td>991</td>\n",
       "      <td>2019-10-20 18:56:00</td>\n",
       "      <td>3</td>\n",
       "      <td>2019-10-16 00:28:00</td>\n",
       "      <td>2019-10-25 23:30:00</td>\n",
       "    </tr>\n",
       "    <tr>\n",
       "      <th>Hospital San Agustín (La Ligua)</th>\n",
       "      <td>1010</td>\n",
       "      <td>999</td>\n",
       "      <td>2019-10-16 11:10:00</td>\n",
       "      <td>2</td>\n",
       "      <td>2019-10-16 00:12:00</td>\n",
       "      <td>2019-10-25 23:05:00</td>\n",
       "    </tr>\n",
       "    <tr>\n",
       "      <th>Hospital San Martín (Quillota)</th>\n",
       "      <td>2172</td>\n",
       "      <td>2019</td>\n",
       "      <td>2019-10-20 12:10:00</td>\n",
       "      <td>4</td>\n",
       "      <td>2019-10-16 00:24:00</td>\n",
       "      <td>2019-10-26 10:04:00</td>\n",
       "    </tr>\n",
       "    <tr>\n",
       "      <th>Hospital Santo Tomás (Limache)</th>\n",
       "      <td>1091</td>\n",
       "      <td>1063</td>\n",
       "      <td>2019-10-22 20:38:00</td>\n",
       "      <td>3</td>\n",
       "      <td>2019-10-16 00:05:00</td>\n",
       "      <td>2019-10-25 22:37:00</td>\n",
       "    </tr>\n",
       "    <tr>\n",
       "      <th>Hospital de Petorca</th>\n",
       "      <td>325</td>\n",
       "      <td>324</td>\n",
       "      <td>2019-10-25 16:24:00</td>\n",
       "      <td>2</td>\n",
       "      <td>2019-10-16 05:41:00</td>\n",
       "      <td>2019-10-25 23:15:00</td>\n",
       "    </tr>\n",
       "    <tr>\n",
       "      <th>Hospital de Quilpué</th>\n",
       "      <td>2020</td>\n",
       "      <td>1900</td>\n",
       "      <td>2019-10-25 00:07:00</td>\n",
       "      <td>3</td>\n",
       "      <td>2019-10-16 00:00:00</td>\n",
       "      <td>2019-10-26 09:42:00</td>\n",
       "    </tr>\n",
       "  </tbody>\n",
       "</table>\n",
       "</div>"
      ],
      "text/plain": [
       "                                                   count unique  \\\n",
       "Establecimiento                                                   \n",
       "Hospital Adriana Cousiño (Quintero)                 1147   1112   \n",
       "Hospital Dr Gustavo Fricke (Viña del Mar)           3724   3240   \n",
       "Hospital Dr Mario Sánchez Vergara (La Calera)       1211   1180   \n",
       "Hospital Dr Víctor Hugo Moll (Cabildo)               629    619   \n",
       "Hospital Juana Ross de Edwards (Peñablanca, Vil...  1017    991   \n",
       "Hospital San Agustín (La Ligua)                     1010    999   \n",
       "Hospital San Martín (Quillota)                      2172   2019   \n",
       "Hospital Santo Tomás (Limache)                      1091   1063   \n",
       "Hospital de Petorca                                  325    324   \n",
       "Hospital de Quilpué                                 2020   1900   \n",
       "\n",
       "                                                                    top freq  \\\n",
       "Establecimiento                                                                \n",
       "Hospital Adriana Cousiño (Quintero)                 2019-10-20 19:37:00    3   \n",
       "Hospital Dr Gustavo Fricke (Viña del Mar)           2019-10-25 09:37:00    3   \n",
       "Hospital Dr Mario Sánchez Vergara (La Calera)       2019-10-24 20:43:00    2   \n",
       "Hospital Dr Víctor Hugo Moll (Cabildo)              2019-10-18 12:05:00    2   \n",
       "Hospital Juana Ross de Edwards (Peñablanca, Vil...  2019-10-20 18:56:00    3   \n",
       "Hospital San Agustín (La Ligua)                     2019-10-16 11:10:00    2   \n",
       "Hospital San Martín (Quillota)                      2019-10-20 12:10:00    4   \n",
       "Hospital Santo Tomás (Limache)                      2019-10-22 20:38:00    3   \n",
       "Hospital de Petorca                                 2019-10-25 16:24:00    2   \n",
       "Hospital de Quilpué                                 2019-10-25 00:07:00    3   \n",
       "\n",
       "                                                                  first  \\\n",
       "Establecimiento                                                           \n",
       "Hospital Adriana Cousiño (Quintero)                 2019-10-16 00:07:00   \n",
       "Hospital Dr Gustavo Fricke (Viña del Mar)           2019-10-16 00:00:00   \n",
       "Hospital Dr Mario Sánchez Vergara (La Calera)       2019-10-16 00:25:00   \n",
       "Hospital Dr Víctor Hugo Moll (Cabildo)              2019-10-16 02:37:00   \n",
       "Hospital Juana Ross de Edwards (Peñablanca, Vil...  2019-10-16 00:28:00   \n",
       "Hospital San Agustín (La Ligua)                     2019-10-16 00:12:00   \n",
       "Hospital San Martín (Quillota)                      2019-10-16 00:24:00   \n",
       "Hospital Santo Tomás (Limache)                      2019-10-16 00:05:00   \n",
       "Hospital de Petorca                                 2019-10-16 05:41:00   \n",
       "Hospital de Quilpué                                 2019-10-16 00:00:00   \n",
       "\n",
       "                                                                   last  \n",
       "Establecimiento                                                          \n",
       "Hospital Adriana Cousiño (Quintero)                 2019-10-25 22:59:00  \n",
       "Hospital Dr Gustavo Fricke (Viña del Mar)           2019-10-26 08:46:00  \n",
       "Hospital Dr Mario Sánchez Vergara (La Calera)       2019-10-25 23:18:00  \n",
       "Hospital Dr Víctor Hugo Moll (Cabildo)              2019-10-25 22:16:00  \n",
       "Hospital Juana Ross de Edwards (Peñablanca, Vil...  2019-10-25 23:30:00  \n",
       "Hospital San Agustín (La Ligua)                     2019-10-25 23:05:00  \n",
       "Hospital San Martín (Quillota)                      2019-10-26 10:04:00  \n",
       "Hospital Santo Tomás (Limache)                      2019-10-25 22:37:00  \n",
       "Hospital de Petorca                                 2019-10-25 23:15:00  \n",
       "Hospital de Quilpué                                 2019-10-26 09:42:00  "
      ]
     },
     "execution_count": 41,
     "metadata": {},
     "output_type": "execute_result"
    },
    {
     "data": {
      "text/plain": [
       "C4      3829\n",
       "C3      3026\n",
       "ESI4    2393\n",
       "C5      1783\n",
       "ESI3    1469\n",
       "ESI2    1131\n",
       "C2       285\n",
       "ESI5     135\n",
       "ESI1      24\n",
       "C1        18\n",
       "Name: Categorizacion, dtype: int64"
      ]
     },
     "execution_count": 41,
     "metadata": {},
     "output_type": "execute_result"
    },
    {
     "data": {
      "text/plain": [
       "Triage 4    6222\n",
       "Triage 3    4495\n",
       "Triage 5    1918\n",
       "Triage 2    1416\n",
       "Triage 1      42\n",
       "Name: Triage, dtype: int64"
      ]
     },
     "execution_count": 41,
     "metadata": {},
     "output_type": "execute_result"
    },
    {
     "data": {
      "text/html": [
       "<div>\n",
       "<style scoped>\n",
       "    .dataframe tbody tr th:only-of-type {\n",
       "        vertical-align: middle;\n",
       "    }\n",
       "\n",
       "    .dataframe tbody tr th {\n",
       "        vertical-align: top;\n",
       "    }\n",
       "\n",
       "    .dataframe thead th {\n",
       "        text-align: right;\n",
       "    }\n",
       "</style>\n",
       "<table border=\"1\" class=\"dataframe\">\n",
       "  <thead>\n",
       "    <tr style=\"text-align: right;\">\n",
       "      <th>Triage</th>\n",
       "      <th>Triage 1</th>\n",
       "      <th>Triage 2</th>\n",
       "      <th>Triage 3</th>\n",
       "      <th>Triage 4</th>\n",
       "      <th>Triage 5</th>\n",
       "      <th>All</th>\n",
       "    </tr>\n",
       "    <tr>\n",
       "      <th>Sexo_x</th>\n",
       "      <th></th>\n",
       "      <th></th>\n",
       "      <th></th>\n",
       "      <th></th>\n",
       "      <th></th>\n",
       "      <th></th>\n",
       "    </tr>\n",
       "  </thead>\n",
       "  <tbody>\n",
       "    <tr>\n",
       "      <th>Hombre</th>\n",
       "      <td>0.47619</td>\n",
       "      <td>0.538136</td>\n",
       "      <td>0.486541</td>\n",
       "      <td>0.414015</td>\n",
       "      <td>0.400417</td>\n",
       "      <td>0.447953</td>\n",
       "    </tr>\n",
       "    <tr>\n",
       "      <th>Mujer</th>\n",
       "      <td>0.52381</td>\n",
       "      <td>0.461864</td>\n",
       "      <td>0.513459</td>\n",
       "      <td>0.585985</td>\n",
       "      <td>0.599583</td>\n",
       "      <td>0.552047</td>\n",
       "    </tr>\n",
       "  </tbody>\n",
       "</table>\n",
       "</div>"
      ],
      "text/plain": [
       "Triage  Triage 1  Triage 2  Triage 3  Triage 4  Triage 5       All\n",
       "Sexo_x                                                            \n",
       "Hombre   0.47619  0.538136  0.486541  0.414015  0.400417  0.447953\n",
       "Mujer    0.52381  0.461864  0.513459  0.585985  0.599583  0.552047"
      ]
     },
     "execution_count": 41,
     "metadata": {},
     "output_type": "execute_result"
    },
    {
     "data": {
      "text/html": [
       "<div>\n",
       "<style scoped>\n",
       "    .dataframe tbody tr th:only-of-type {\n",
       "        vertical-align: middle;\n",
       "    }\n",
       "\n",
       "    .dataframe tbody tr th {\n",
       "        vertical-align: top;\n",
       "    }\n",
       "\n",
       "    .dataframe thead th {\n",
       "        text-align: right;\n",
       "    }\n",
       "</style>\n",
       "<table border=\"1\" class=\"dataframe\">\n",
       "  <thead>\n",
       "    <tr style=\"text-align: right;\">\n",
       "      <th>Triage</th>\n",
       "      <th>Triage 1</th>\n",
       "      <th>Triage 2</th>\n",
       "      <th>Triage 3</th>\n",
       "      <th>Triage 4</th>\n",
       "      <th>Triage 5</th>\n",
       "    </tr>\n",
       "    <tr>\n",
       "      <th>Sexo_x</th>\n",
       "      <th></th>\n",
       "      <th></th>\n",
       "      <th></th>\n",
       "      <th></th>\n",
       "      <th></th>\n",
       "    </tr>\n",
       "  </thead>\n",
       "  <tbody>\n",
       "    <tr>\n",
       "      <th>Hombre</th>\n",
       "      <td>0.003168</td>\n",
       "      <td>0.120703</td>\n",
       "      <td>0.346428</td>\n",
       "      <td>0.408047</td>\n",
       "      <td>0.121654</td>\n",
       "    </tr>\n",
       "    <tr>\n",
       "      <th>Mujer</th>\n",
       "      <td>0.002828</td>\n",
       "      <td>0.084062</td>\n",
       "      <td>0.296658</td>\n",
       "      <td>0.468638</td>\n",
       "      <td>0.147815</td>\n",
       "    </tr>\n",
       "    <tr>\n",
       "      <th>All</th>\n",
       "      <td>0.002980</td>\n",
       "      <td>0.100475</td>\n",
       "      <td>0.318953</td>\n",
       "      <td>0.441496</td>\n",
       "      <td>0.136096</td>\n",
       "    </tr>\n",
       "  </tbody>\n",
       "</table>\n",
       "</div>"
      ],
      "text/plain": [
       "Triage  Triage 1  Triage 2  Triage 3  Triage 4  Triage 5\n",
       "Sexo_x                                                  \n",
       "Hombre  0.003168  0.120703  0.346428  0.408047  0.121654\n",
       "Mujer   0.002828  0.084062  0.296658  0.468638  0.147815\n",
       "All     0.002980  0.100475  0.318953  0.441496  0.136096"
      ]
     },
     "execution_count": 41,
     "metadata": {},
     "output_type": "execute_result"
    },
    {
     "name": "stdout",
     "output_type": "stream",
     "text": [
      "<class 'pandas.core.frame.DataFrame'>\n",
      "Index: 14354 entries, U0003160771 to U0003175444\n",
      "Data columns (total 48 columns):\n",
      "Establecimiento               14346 non-null object\n",
      "RutPaciente                   14159 non-null object\n",
      "Edad                          14346 non-null float64\n",
      "Sexo_x                        14346 non-null object\n",
      "Comuna                        14301 non-null object\n",
      "Provincia                     13279 non-null object\n",
      "MotivoConsulta                14340 non-null object\n",
      "Prevision                     14176 non-null object\n",
      "Telefono                      13374 non-null float64\n",
      "Direccion                     14346 non-null object\n",
      "Nombre                        12602 non-null object\n",
      "Apellido Paterno              12602 non-null object\n",
      "Apellido Materno              12490 non-null object\n",
      "Fecha Nacimiento              12602 non-null object\n",
      "Plan                          12414 non-null object\n",
      "Condición de Urgencia         11590 non-null object\n",
      "ClasificacionConsulta         14346 non-null object\n",
      "TipoAccidente                 13106 non-null object\n",
      "NumeroAtencionesAnteriores    14346 non-null float64\n",
      "DiagnosticoPrincipal          12820 non-null object\n",
      "OtrosDiagnosticos             1040 non-null object\n",
      "LlegadaEn                     14346 non-null object\n",
      "ProcedenciaPaciente           14346 non-null object\n",
      "Origen_paciente               14346 non-null object\n",
      "Arribo_paciente               14259 non-null object\n",
      "LlegadaSAMU                   611 non-null object\n",
      "Destino_paciente              12765 non-null object\n",
      "AtInterrumpidaPor             1772 non-null object\n",
      "AtendidoPor                   14106 non-null object\n",
      "DestinoAlta                   12765 non-null object\n",
      "CondicionAlCierre             14259 non-null object\n",
      "Pronostico                    12756 non-null object\n",
      "Categorizacion                14093 non-null object\n",
      "AtencionEnfermeria            1350 non-null object\n",
      "Local                         12602 non-null object\n",
      "TS_ingreso                    14346 non-null datetime64[ns]\n",
      "TS_triage                     12546 non-null datetime64[ns]\n",
      "TS_atencion                   12534 non-null datetime64[ns]\n",
      "TS_cierremedico               14253 non-null datetime64[ns]\n",
      "TS_egreso                     12454 non-null datetime64[ns]\n",
      "DT_EsperaCategorizacion       12540 non-null timedelta64[ns]\n",
      "DT_EsperaMD                   12487 non-null timedelta64[ns]\n",
      "DT_AtencionMD                 12474 non-null timedelta64[ns]\n",
      "DT_definicionPAC              14253 non-null timedelta64[ns]\n",
      "DT_Espera_CierreAdm           12449 non-null timedelta64[ns]\n",
      "DT_Total                      12454 non-null timedelta64[ns]\n",
      "Triage                        14093 non-null object\n",
      "Turno                         14354 non-null object\n",
      "dtypes: datetime64[ns](5), float64(3), object(34), timedelta64[ns](6)\n",
      "memory usage: 5.4+ MB\n"
     ]
    }
   ],
   "source": [
    "sidra.Establecimiento.value_counts()\n",
    "sidra.groupby('Establecimiento').TS_ingreso.describe()\n",
    "sidra.Categorizacion.value_counts()\n",
    "sidra.Triage.value_counts()\n",
    "pd.crosstab(sidra.Sexo_x, sidra.Triage, margins=True, normalize= 'columns')\n",
    "pd.crosstab(sidra.Sexo_x, sidra.Triage, margins=True, normalize= 'index')\n",
    "\n",
    "sidra.info()"
   ]
  },
  {
   "cell_type": "code",
   "execution_count": 42,
   "metadata": {
    "scrolled": true
   },
   "outputs": [
    {
     "data": {
      "text/plain": [
       "count                   14346\n",
       "unique                   8097\n",
       "top       2019-10-17 10:52:00\n",
       "freq                        9\n",
       "first     2019-10-16 00:00:00\n",
       "last      2019-10-26 10:04:00\n",
       "Name: TS_ingreso, dtype: object"
      ]
     },
     "execution_count": 42,
     "metadata": {},
     "output_type": "execute_result"
    }
   ],
   "source": [
    "sidra.TS_ingreso.describe()"
   ]
  },
  {
   "cell_type": "code",
   "execution_count": null,
   "metadata": {
    "collapsed": true
   },
   "outputs": [],
   "source": []
  },
  {
   "cell_type": "code",
   "execution_count": null,
   "metadata": {
    "collapsed": true
   },
   "outputs": [],
   "source": []
  }
 ],
 "metadata": {
  "kernelspec": {
   "display_name": "Python 3",
   "language": "python",
   "name": "python3"
  },
  "language_info": {
   "codemirror_mode": {
    "name": "ipython",
    "version": 3
   },
   "file_extension": ".py",
   "mimetype": "text/x-python",
   "name": "python",
   "nbconvert_exporter": "python",
   "pygments_lexer": "ipython3",
   "version": "3.6.3"
  }
 },
 "nbformat": 4,
 "nbformat_minor": 2
}
